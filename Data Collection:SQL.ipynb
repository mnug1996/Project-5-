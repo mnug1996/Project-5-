{
 "cells": [
  {
   "cell_type": "markdown",
   "metadata": {},
   "source": [
    "# Zuber Data Analysis\n",
    "\n",
    "**The objective for this analysis is to 1) analyze competitor ride service data using exploratory data analysis and 2) test the hypothesis of whether ride frequency is impacted by weather using statistical data analysis**\n",
    "\n",
    "**The data for EDA is from two separate dataframes and will be analyzed using the following steps:**\n",
    "\n",
    "1) Import the files and study the data for correctness\n",
    "\n",
    "2) Identify the top 10 neighborhoods in terms of drop-offs\n",
    "\n",
    "3) Make graphs: taxi companies and number of rides, top 10 neighborhoods by number of dropoffs\n",
    "\n",
    "4) draw conclusions based on each graph and explain the results\n",
    "\n",
    "**The data for SDA is from one dataframe and will address the hypothesis:**\n",
    "1) \"The average duration of rides from the Loop to O'Hare International Airport changes on rainy Saturdays.\""
   ]
  },
  {
   "cell_type": "markdown",
   "metadata": {},
   "source": [
    "## Exploratory Data Analysis"
   ]
  },
  {
   "cell_type": "markdown",
   "metadata": {},
   "source": [
    "### Import the files and study the data for correctness"
   ]
  },
  {
   "cell_type": "code",
   "execution_count": 1,
   "metadata": {},
   "outputs": [
    {
     "name": "stdout",
     "output_type": "stream",
     "text": [
      "<class 'pandas.core.frame.DataFrame'>\n",
      "RangeIndex: 64 entries, 0 to 63\n",
      "Data columns (total 2 columns):\n",
      "company_name    64 non-null object\n",
      "trips_amount    64 non-null int64\n",
      "dtypes: int64(1), object(1)\n",
      "memory usage: 1.1+ KB\n"
     ]
    },
    {
     "data": {
      "text/html": [
       "<div>\n",
       "<style scoped>\n",
       "    .dataframe tbody tr th:only-of-type {\n",
       "        vertical-align: middle;\n",
       "    }\n",
       "\n",
       "    .dataframe tbody tr th {\n",
       "        vertical-align: top;\n",
       "    }\n",
       "\n",
       "    .dataframe thead th {\n",
       "        text-align: right;\n",
       "    }\n",
       "</style>\n",
       "<table border=\"1\" class=\"dataframe\">\n",
       "  <thead>\n",
       "    <tr style=\"text-align: right;\">\n",
       "      <th></th>\n",
       "      <th>company_name</th>\n",
       "      <th>trips_amount</th>\n",
       "    </tr>\n",
       "  </thead>\n",
       "  <tbody>\n",
       "    <tr>\n",
       "      <td>0</td>\n",
       "      <td>Flash Cab</td>\n",
       "      <td>19558</td>\n",
       "    </tr>\n",
       "    <tr>\n",
       "      <td>1</td>\n",
       "      <td>Taxi Affiliation Services</td>\n",
       "      <td>11422</td>\n",
       "    </tr>\n",
       "    <tr>\n",
       "      <td>2</td>\n",
       "      <td>Medallion Leasing</td>\n",
       "      <td>10367</td>\n",
       "    </tr>\n",
       "    <tr>\n",
       "      <td>3</td>\n",
       "      <td>Yellow Cab</td>\n",
       "      <td>9888</td>\n",
       "    </tr>\n",
       "    <tr>\n",
       "      <td>4</td>\n",
       "      <td>Taxi Affiliation Service Yellow</td>\n",
       "      <td>9299</td>\n",
       "    </tr>\n",
       "    <tr>\n",
       "      <td>5</td>\n",
       "      <td>Chicago Carriage Cab Corp</td>\n",
       "      <td>9181</td>\n",
       "    </tr>\n",
       "    <tr>\n",
       "      <td>6</td>\n",
       "      <td>City Service</td>\n",
       "      <td>8448</td>\n",
       "    </tr>\n",
       "    <tr>\n",
       "      <td>7</td>\n",
       "      <td>Sun Taxi</td>\n",
       "      <td>7701</td>\n",
       "    </tr>\n",
       "    <tr>\n",
       "      <td>8</td>\n",
       "      <td>Star North Management LLC</td>\n",
       "      <td>7455</td>\n",
       "    </tr>\n",
       "    <tr>\n",
       "      <td>9</td>\n",
       "      <td>Blue Ribbon Taxi Association Inc.</td>\n",
       "      <td>5953</td>\n",
       "    </tr>\n",
       "  </tbody>\n",
       "</table>\n",
       "</div>"
      ],
      "text/plain": [
       "                        company_name  trips_amount\n",
       "0                          Flash Cab         19558\n",
       "1          Taxi Affiliation Services         11422\n",
       "2                  Medallion Leasing         10367\n",
       "3                         Yellow Cab          9888\n",
       "4    Taxi Affiliation Service Yellow          9299\n",
       "5          Chicago Carriage Cab Corp          9181\n",
       "6                       City Service          8448\n",
       "7                           Sun Taxi          7701\n",
       "8          Star North Management LLC          7455\n",
       "9  Blue Ribbon Taxi Association Inc.          5953"
      ]
     },
     "metadata": {},
     "output_type": "display_data"
    },
    {
     "data": {
      "text/plain": [
       "None"
      ]
     },
     "metadata": {},
     "output_type": "display_data"
    }
   ],
   "source": [
    "import pandas as pd\n",
    "name_trips = pd.read_csv('/datasets/project_sql_result_01.csv')\n",
    "try:\n",
    "    display(name_trips.head(10), name_trips.info() )\n",
    "except:\n",
    "    display('cannot read csv')\n",
    "#The data is readable"
   ]
  },
  {
   "cell_type": "code",
   "execution_count": 2,
   "metadata": {
    "scrolled": true
   },
   "outputs": [
    {
     "name": "stdout",
     "output_type": "stream",
     "text": [
      "<class 'pandas.core.frame.DataFrame'>\n",
      "RangeIndex: 94 entries, 0 to 93\n",
      "Data columns (total 2 columns):\n",
      "dropoff_location_name    94 non-null object\n",
      "average_trips            94 non-null float64\n",
      "dtypes: float64(1), object(1)\n",
      "memory usage: 1.6+ KB\n"
     ]
    },
    {
     "data": {
      "text/html": [
       "<div>\n",
       "<style scoped>\n",
       "    .dataframe tbody tr th:only-of-type {\n",
       "        vertical-align: middle;\n",
       "    }\n",
       "\n",
       "    .dataframe tbody tr th {\n",
       "        vertical-align: top;\n",
       "    }\n",
       "\n",
       "    .dataframe thead th {\n",
       "        text-align: right;\n",
       "    }\n",
       "</style>\n",
       "<table border=\"1\" class=\"dataframe\">\n",
       "  <thead>\n",
       "    <tr style=\"text-align: right;\">\n",
       "      <th></th>\n",
       "      <th>dropoff_location_name</th>\n",
       "      <th>average_trips</th>\n",
       "    </tr>\n",
       "  </thead>\n",
       "  <tbody>\n",
       "    <tr>\n",
       "      <td>0</td>\n",
       "      <td>Loop</td>\n",
       "      <td>10727.466667</td>\n",
       "    </tr>\n",
       "    <tr>\n",
       "      <td>1</td>\n",
       "      <td>River North</td>\n",
       "      <td>9523.666667</td>\n",
       "    </tr>\n",
       "    <tr>\n",
       "      <td>2</td>\n",
       "      <td>Streeterville</td>\n",
       "      <td>6664.666667</td>\n",
       "    </tr>\n",
       "    <tr>\n",
       "      <td>3</td>\n",
       "      <td>West Loop</td>\n",
       "      <td>5163.666667</td>\n",
       "    </tr>\n",
       "    <tr>\n",
       "      <td>4</td>\n",
       "      <td>O'Hare</td>\n",
       "      <td>2546.900000</td>\n",
       "    </tr>\n",
       "    <tr>\n",
       "      <td>5</td>\n",
       "      <td>Lake View</td>\n",
       "      <td>2420.966667</td>\n",
       "    </tr>\n",
       "    <tr>\n",
       "      <td>6</td>\n",
       "      <td>Grant Park</td>\n",
       "      <td>2068.533333</td>\n",
       "    </tr>\n",
       "    <tr>\n",
       "      <td>7</td>\n",
       "      <td>Museum Campus</td>\n",
       "      <td>1510.000000</td>\n",
       "    </tr>\n",
       "    <tr>\n",
       "      <td>8</td>\n",
       "      <td>Gold Coast</td>\n",
       "      <td>1364.233333</td>\n",
       "    </tr>\n",
       "    <tr>\n",
       "      <td>9</td>\n",
       "      <td>Sheffield &amp; DePaul</td>\n",
       "      <td>1259.766667</td>\n",
       "    </tr>\n",
       "  </tbody>\n",
       "</table>\n",
       "</div>"
      ],
      "text/plain": [
       "  dropoff_location_name  average_trips\n",
       "0                  Loop   10727.466667\n",
       "1           River North    9523.666667\n",
       "2         Streeterville    6664.666667\n",
       "3             West Loop    5163.666667\n",
       "4                O'Hare    2546.900000\n",
       "5             Lake View    2420.966667\n",
       "6            Grant Park    2068.533333\n",
       "7         Museum Campus    1510.000000\n",
       "8            Gold Coast    1364.233333\n",
       "9    Sheffield & DePaul    1259.766667"
      ]
     },
     "metadata": {},
     "output_type": "display_data"
    },
    {
     "data": {
      "text/plain": [
       "None"
      ]
     },
     "metadata": {},
     "output_type": "display_data"
    }
   ],
   "source": [
    "loc_avgtrip = pd.read_csv('/datasets/project_sql_result_04.csv')\n",
    "try:\n",
    "    display(loc_avgtrip.head(10), loc_avgtrip.info())\n",
    "except:\n",
    "    display('cannot read csv')\n",
    "#data is readable"
   ]
  },
  {
   "cell_type": "code",
   "execution_count": 3,
   "metadata": {},
   "outputs": [
    {
     "name": "stdout",
     "output_type": "stream",
     "text": [
      "<class 'pandas.core.frame.DataFrame'>\n",
      "RangeIndex: 1068 entries, 0 to 1067\n",
      "Data columns (total 3 columns):\n",
      "start_ts              1068 non-null object\n",
      "weather_conditions    1068 non-null object\n",
      "duration_seconds      1068 non-null float64\n",
      "dtypes: float64(1), object(2)\n",
      "memory usage: 25.2+ KB\n"
     ]
    },
    {
     "data": {
      "text/html": [
       "<div>\n",
       "<style scoped>\n",
       "    .dataframe tbody tr th:only-of-type {\n",
       "        vertical-align: middle;\n",
       "    }\n",
       "\n",
       "    .dataframe tbody tr th {\n",
       "        vertical-align: top;\n",
       "    }\n",
       "\n",
       "    .dataframe thead th {\n",
       "        text-align: right;\n",
       "    }\n",
       "</style>\n",
       "<table border=\"1\" class=\"dataframe\">\n",
       "  <thead>\n",
       "    <tr style=\"text-align: right;\">\n",
       "      <th></th>\n",
       "      <th>start_ts</th>\n",
       "      <th>weather_conditions</th>\n",
       "      <th>duration_seconds</th>\n",
       "    </tr>\n",
       "  </thead>\n",
       "  <tbody>\n",
       "    <tr>\n",
       "      <td>0</td>\n",
       "      <td>2017-11-25 16:00:00</td>\n",
       "      <td>Good</td>\n",
       "      <td>2410.0</td>\n",
       "    </tr>\n",
       "    <tr>\n",
       "      <td>1</td>\n",
       "      <td>2017-11-25 14:00:00</td>\n",
       "      <td>Good</td>\n",
       "      <td>1920.0</td>\n",
       "    </tr>\n",
       "    <tr>\n",
       "      <td>2</td>\n",
       "      <td>2017-11-25 12:00:00</td>\n",
       "      <td>Good</td>\n",
       "      <td>1543.0</td>\n",
       "    </tr>\n",
       "    <tr>\n",
       "      <td>3</td>\n",
       "      <td>2017-11-04 10:00:00</td>\n",
       "      <td>Good</td>\n",
       "      <td>2512.0</td>\n",
       "    </tr>\n",
       "    <tr>\n",
       "      <td>4</td>\n",
       "      <td>2017-11-11 07:00:00</td>\n",
       "      <td>Good</td>\n",
       "      <td>1440.0</td>\n",
       "    </tr>\n",
       "    <tr>\n",
       "      <td>5</td>\n",
       "      <td>2017-11-11 04:00:00</td>\n",
       "      <td>Good</td>\n",
       "      <td>1320.0</td>\n",
       "    </tr>\n",
       "    <tr>\n",
       "      <td>6</td>\n",
       "      <td>2017-11-04 16:00:00</td>\n",
       "      <td>Bad</td>\n",
       "      <td>2969.0</td>\n",
       "    </tr>\n",
       "    <tr>\n",
       "      <td>7</td>\n",
       "      <td>2017-11-18 11:00:00</td>\n",
       "      <td>Good</td>\n",
       "      <td>2280.0</td>\n",
       "    </tr>\n",
       "    <tr>\n",
       "      <td>8</td>\n",
       "      <td>2017-11-11 14:00:00</td>\n",
       "      <td>Good</td>\n",
       "      <td>2460.0</td>\n",
       "    </tr>\n",
       "    <tr>\n",
       "      <td>9</td>\n",
       "      <td>2017-11-11 12:00:00</td>\n",
       "      <td>Good</td>\n",
       "      <td>2040.0</td>\n",
       "    </tr>\n",
       "  </tbody>\n",
       "</table>\n",
       "</div>"
      ],
      "text/plain": [
       "              start_ts weather_conditions  duration_seconds\n",
       "0  2017-11-25 16:00:00               Good            2410.0\n",
       "1  2017-11-25 14:00:00               Good            1920.0\n",
       "2  2017-11-25 12:00:00               Good            1543.0\n",
       "3  2017-11-04 10:00:00               Good            2512.0\n",
       "4  2017-11-11 07:00:00               Good            1440.0\n",
       "5  2017-11-11 04:00:00               Good            1320.0\n",
       "6  2017-11-04 16:00:00                Bad            2969.0\n",
       "7  2017-11-18 11:00:00               Good            2280.0\n",
       "8  2017-11-11 14:00:00               Good            2460.0\n",
       "9  2017-11-11 12:00:00               Good            2040.0"
      ]
     },
     "metadata": {},
     "output_type": "display_data"
    },
    {
     "data": {
      "text/plain": [
       "None"
      ]
     },
     "metadata": {},
     "output_type": "display_data"
    },
    {
     "data": {
      "text/html": [
       "<div>\n",
       "<style scoped>\n",
       "    .dataframe tbody tr th:only-of-type {\n",
       "        vertical-align: middle;\n",
       "    }\n",
       "\n",
       "    .dataframe tbody tr th {\n",
       "        vertical-align: top;\n",
       "    }\n",
       "\n",
       "    .dataframe thead th {\n",
       "        text-align: right;\n",
       "    }\n",
       "</style>\n",
       "<table border=\"1\" class=\"dataframe\">\n",
       "  <thead>\n",
       "    <tr style=\"text-align: right;\">\n",
       "      <th></th>\n",
       "      <th>start_ts</th>\n",
       "      <th>weather_conditions</th>\n",
       "      <th>duration_seconds</th>\n",
       "    </tr>\n",
       "  </thead>\n",
       "  <tbody>\n",
       "    <tr>\n",
       "      <td>0</td>\n",
       "      <td>2017-11-25 16:00:00</td>\n",
       "      <td>Good</td>\n",
       "      <td>2410.0</td>\n",
       "    </tr>\n",
       "    <tr>\n",
       "      <td>1</td>\n",
       "      <td>2017-11-25 14:00:00</td>\n",
       "      <td>Good</td>\n",
       "      <td>1920.0</td>\n",
       "    </tr>\n",
       "    <tr>\n",
       "      <td>2</td>\n",
       "      <td>2017-11-25 12:00:00</td>\n",
       "      <td>Good</td>\n",
       "      <td>1543.0</td>\n",
       "    </tr>\n",
       "    <tr>\n",
       "      <td>3</td>\n",
       "      <td>2017-11-04 10:00:00</td>\n",
       "      <td>Good</td>\n",
       "      <td>2512.0</td>\n",
       "    </tr>\n",
       "    <tr>\n",
       "      <td>4</td>\n",
       "      <td>2017-11-11 07:00:00</td>\n",
       "      <td>Good</td>\n",
       "      <td>1440.0</td>\n",
       "    </tr>\n",
       "    <tr>\n",
       "      <td>5</td>\n",
       "      <td>2017-11-11 04:00:00</td>\n",
       "      <td>Good</td>\n",
       "      <td>1320.0</td>\n",
       "    </tr>\n",
       "    <tr>\n",
       "      <td>6</td>\n",
       "      <td>2017-11-04 16:00:00</td>\n",
       "      <td>Bad</td>\n",
       "      <td>2969.0</td>\n",
       "    </tr>\n",
       "    <tr>\n",
       "      <td>7</td>\n",
       "      <td>2017-11-18 11:00:00</td>\n",
       "      <td>Good</td>\n",
       "      <td>2280.0</td>\n",
       "    </tr>\n",
       "    <tr>\n",
       "      <td>8</td>\n",
       "      <td>2017-11-11 14:00:00</td>\n",
       "      <td>Good</td>\n",
       "      <td>2460.0</td>\n",
       "    </tr>\n",
       "    <tr>\n",
       "      <td>9</td>\n",
       "      <td>2017-11-11 12:00:00</td>\n",
       "      <td>Good</td>\n",
       "      <td>2040.0</td>\n",
       "    </tr>\n",
       "  </tbody>\n",
       "</table>\n",
       "</div>"
      ],
      "text/plain": [
       "              start_ts weather_conditions  duration_seconds\n",
       "0  2017-11-25 16:00:00               Good            2410.0\n",
       "1  2017-11-25 14:00:00               Good            1920.0\n",
       "2  2017-11-25 12:00:00               Good            1543.0\n",
       "3  2017-11-04 10:00:00               Good            2512.0\n",
       "4  2017-11-11 07:00:00               Good            1440.0\n",
       "5  2017-11-11 04:00:00               Good            1320.0\n",
       "6  2017-11-04 16:00:00                Bad            2969.0\n",
       "7  2017-11-18 11:00:00               Good            2280.0\n",
       "8  2017-11-11 14:00:00               Good            2460.0\n",
       "9  2017-11-11 12:00:00               Good            2040.0"
      ]
     },
     "execution_count": 3,
     "metadata": {},
     "output_type": "execute_result"
    }
   ],
   "source": [
    "taxi_weather_data = pd.read_csv('/datasets/project_sql_result_07.csv')\n",
    "try:\n",
    "    display(taxi_weather_data.head(10), taxi_weather_data.info())\n",
    "except:\n",
    "    display('cannot read csv')\n",
    "taxi_weather_data.head(10)"
   ]
  },
  {
   "cell_type": "code",
   "execution_count": 4,
   "metadata": {},
   "outputs": [
    {
     "data": {
      "text/plain": [
       "0    10727\n",
       "1     9523\n",
       "2     6664\n",
       "3     5163\n",
       "4     2546\n",
       "5     2420\n",
       "6     2068\n",
       "7     1510\n",
       "8     1364\n",
       "9     1259\n",
       "Name: average_trips, dtype: int64"
      ]
     },
     "execution_count": 4,
     "metadata": {},
     "output_type": "execute_result"
    }
   ],
   "source": [
    "#Average_trips should be int type\n",
    "loc_avgtrip['average_trips'] = loc_avgtrip['average_trips'].astype('int')\n",
    "loc_avgtrip['average_trips'].head(10)"
   ]
  },
  {
   "cell_type": "code",
   "execution_count": 5,
   "metadata": {},
   "outputs": [
    {
     "data": {
      "text/plain": [
       "0"
      ]
     },
     "metadata": {},
     "output_type": "display_data"
    },
    {
     "data": {
      "text/plain": [
       "0"
      ]
     },
     "metadata": {},
     "output_type": "display_data"
    },
    {
     "data": {
      "text/plain": [
       "197"
      ]
     },
     "metadata": {},
     "output_type": "display_data"
    }
   ],
   "source": [
    "#Checking df's for duplicated rows\n",
    "display(name_trips.duplicated().sum(), \n",
    "        loc_avgtrip.duplicated().sum(), taxi_weather_data.duplicated().sum())"
   ]
  },
  {
   "cell_type": "code",
   "execution_count": 6,
   "metadata": {},
   "outputs": [
    {
     "data": {
      "text/plain": [
       "0"
      ]
     },
     "metadata": {},
     "output_type": "display_data"
    },
    {
     "data": {
      "text/plain": [
       "0"
      ]
     },
     "metadata": {},
     "output_type": "display_data"
    },
    {
     "data": {
      "text/plain": [
       "Good    888\n",
       "Bad     180\n",
       "Name: weather_conditions, dtype: int64"
      ]
     },
     "metadata": {},
     "output_type": "display_data"
    }
   ],
   "source": [
    "#Checking both df's for duplicated values in specific columns\n",
    "display(name_trips['company_name'].duplicated().sum(),\n",
    "        loc_avgtrip.duplicated().sum(), \n",
    "        taxi_weather_data['weather_conditions'].value_counts())"
   ]
  },
  {
   "cell_type": "code",
   "execution_count": 7,
   "metadata": {},
   "outputs": [
    {
     "data": {
      "text/plain": [
       "company_name    0\n",
       "trips_amount    0\n",
       "dtype: int64"
      ]
     },
     "metadata": {},
     "output_type": "display_data"
    },
    {
     "data": {
      "text/plain": [
       "dropoff_location_name    0\n",
       "average_trips            0\n",
       "dtype: int64"
      ]
     },
     "metadata": {},
     "output_type": "display_data"
    },
    {
     "data": {
      "text/plain": [
       "start_ts              0\n",
       "weather_conditions    0\n",
       "duration_seconds      0\n",
       "dtype: int64"
      ]
     },
     "metadata": {},
     "output_type": "display_data"
    }
   ],
   "source": [
    "#Double checking for null-values\n",
    "display(name_trips.isnull().sum(), loc_avgtrip.isnull().sum(), taxi_weather_data.isnull().sum())"
   ]
  },
  {
   "cell_type": "markdown",
   "metadata": {},
   "source": [
    "**Conclusion 1.1 Data Correctness**\n",
    "\n",
    "1) The dataframes are readable after using try-except block\n",
    "\n",
    "2) The name_trips df contains two columns (company_name and trips_amount) and 64 rows (index 0-63)\n",
    "\n",
    "3) The name_trips df has the correct data types\n",
    "\n",
    "4) The loc_avgtrip df has two columns (dropoff_location_name and average_trips) and 94 rows (index 0-93)\n",
    "\n",
    "5) The loc_avgtrip df has the correct data types\n",
    "\n",
    "6) Both df's lacked missing values, duplicate rows, and duplicated values for name specific columns"
   ]
  },
  {
   "cell_type": "markdown",
   "metadata": {},
   "source": [
    "### Identify the top 10 neighborhoods in terms of drop-offs"
   ]
  },
  {
   "cell_type": "code",
   "execution_count": 8,
   "metadata": {},
   "outputs": [
    {
     "data": {
      "text/html": [
       "<div>\n",
       "<style scoped>\n",
       "    .dataframe tbody tr th:only-of-type {\n",
       "        vertical-align: middle;\n",
       "    }\n",
       "\n",
       "    .dataframe tbody tr th {\n",
       "        vertical-align: top;\n",
       "    }\n",
       "\n",
       "    .dataframe thead th {\n",
       "        text-align: right;\n",
       "    }\n",
       "</style>\n",
       "<table border=\"1\" class=\"dataframe\">\n",
       "  <thead>\n",
       "    <tr style=\"text-align: right;\">\n",
       "      <th></th>\n",
       "      <th>dropoff_location_name</th>\n",
       "      <th>average_trips</th>\n",
       "    </tr>\n",
       "  </thead>\n",
       "  <tbody>\n",
       "    <tr>\n",
       "      <td>0</td>\n",
       "      <td>Loop</td>\n",
       "      <td>10727</td>\n",
       "    </tr>\n",
       "    <tr>\n",
       "      <td>1</td>\n",
       "      <td>River North</td>\n",
       "      <td>9523</td>\n",
       "    </tr>\n",
       "    <tr>\n",
       "      <td>2</td>\n",
       "      <td>Streeterville</td>\n",
       "      <td>6664</td>\n",
       "    </tr>\n",
       "    <tr>\n",
       "      <td>3</td>\n",
       "      <td>West Loop</td>\n",
       "      <td>5163</td>\n",
       "    </tr>\n",
       "    <tr>\n",
       "      <td>4</td>\n",
       "      <td>O'Hare</td>\n",
       "      <td>2546</td>\n",
       "    </tr>\n",
       "    <tr>\n",
       "      <td>5</td>\n",
       "      <td>Lake View</td>\n",
       "      <td>2420</td>\n",
       "    </tr>\n",
       "    <tr>\n",
       "      <td>6</td>\n",
       "      <td>Grant Park</td>\n",
       "      <td>2068</td>\n",
       "    </tr>\n",
       "    <tr>\n",
       "      <td>7</td>\n",
       "      <td>Museum Campus</td>\n",
       "      <td>1510</td>\n",
       "    </tr>\n",
       "    <tr>\n",
       "      <td>8</td>\n",
       "      <td>Gold Coast</td>\n",
       "      <td>1364</td>\n",
       "    </tr>\n",
       "    <tr>\n",
       "      <td>9</td>\n",
       "      <td>Sheffield &amp; DePaul</td>\n",
       "      <td>1259</td>\n",
       "    </tr>\n",
       "  </tbody>\n",
       "</table>\n",
       "</div>"
      ],
      "text/plain": [
       "  dropoff_location_name  average_trips\n",
       "0                  Loop          10727\n",
       "1           River North           9523\n",
       "2         Streeterville           6664\n",
       "3             West Loop           5163\n",
       "4                O'Hare           2546\n",
       "5             Lake View           2420\n",
       "6            Grant Park           2068\n",
       "7         Museum Campus           1510\n",
       "8            Gold Coast           1364\n",
       "9    Sheffield & DePaul           1259"
      ]
     },
     "execution_count": 8,
     "metadata": {},
     "output_type": "execute_result"
    }
   ],
   "source": [
    "top_ten_hoods = loc_avgtrip.sort_values(by='average_trips', ascending=False).head(10)\n",
    "top_ten_hoods"
   ]
  },
  {
   "cell_type": "markdown",
   "metadata": {},
   "source": [
    "**Conclusion 1.2**\n",
    "\n",
    "1) The table in the previous cell displays the top 10 neighborhoods with the most trips\n",
    "\n",
    "2) Loop has the most drop-offs at 10,727 and Sheffield & DePaul has the lowest drop-offs at 1,259"
   ]
  },
  {
   "cell_type": "markdown",
   "metadata": {},
   "source": [
    "### Make graphs: taxi companies and number of rides, top 10 neighborhoods by number of dropoffs"
   ]
  },
  {
   "cell_type": "code",
   "execution_count": 9,
   "metadata": {},
   "outputs": [
    {
     "data": {
      "text/plain": [
       "<function matplotlib.pyplot.show(*args, **kw)>"
      ]
     },
     "execution_count": 9,
     "metadata": {},
     "output_type": "execute_result"
    },
    {
     "data": {
      "image/png": "[encoded data removed]",
      "text/plain": [
       "<Figure size 432x288 with 1 Axes>"
      ]
     },
     "metadata": {
      "needs_background": "light"
     },
     "output_type": "display_data"
    }
   ],
   "source": [
    "import matplotlib.pyplot as plt\n",
    "ax = name_trips.plot(kind='hist', grid=True)\n",
    "ax.set_ylabel('Number of Taxi Companies')\n",
    "ax.set_xlabel('Number of Rides')\n",
    "ax.set_title('November 15-16, 2017: Taxi Companies and Number of Rides Distribution')\n",
    "plt.show"
   ]
  },
  {
   "cell_type": "markdown",
   "metadata": {},
   "source": [
    "**Conclusion 1.3**\n",
    "\n",
    "1) The graph above shows the distribution of taxi companies and number of rides\n",
    "\n",
    "2) This shows that most companies achieved below 2000 rides in November 15-16 of 2017 and there's a large gap between the lowest and highest rides achieved"
   ]
  },
  {
   "cell_type": "code",
   "execution_count": 10,
   "metadata": {},
   "outputs": [
    {
     "data": {
      "image/png": "[encoded data removed]",
      "text/plain": [
       "<Figure size 432x288 with 1 Axes>"
      ]
     },
     "metadata": {
      "needs_background": "light"
     },
     "output_type": "display_data"
    }
   ],
   "source": [
    "#top_ten_hoods graph\n",
    "ax = top_ten_hoods.plot(kind='bar', x='dropoff_location_name', grid=True)\n",
    "ax.set_title('Top 10 Highest Average Trip Neighborhoods')\n",
    "ax.set_ylabel('Average Trips')\n",
    "ax.set_xlabel('Neighborhoods')\n",
    "plt.show()"
   ]
  },
  {
   "cell_type": "markdown",
   "metadata": {},
   "source": [
    "**Conclusion 1.4**\n",
    "\n",
    "1) This graph shows that Loop achieved the highest number of trips with over 10,000 trips\n",
    "\n",
    "2) Sheffield & DePaul had the lowest number of rides close to ~1700 trips\n",
    "\n",
    "3) The top 4 neighborhoods have more distinguished peaks with Streeterville and West loop in a medium range (6250 - 4500) and the rest of the neighborhoods to the right of the graph are in a lower range (~2250 and below)"
   ]
  },
  {
   "cell_type": "markdown",
   "metadata": {},
   "source": [
    "### EDA General Conclusion\n",
    "\n",
    "1) It was found that most of the competition had ride counts at ~2250. This number will give Zuber an idea of how many rides they can achieve in two days and should adjust their pricing according to this number as a newer taxi service.\n",
    "\n",
    "2) The neighborhoods with the highest average trips were Loop, River North, Streeterville, and West Loop. In order for Zuber to gain more exposure, marketing should focus advertising to these neighborhoods with greater ride activity."
   ]
  },
  {
   "cell_type": "markdown",
   "metadata": {},
   "source": [
    "## Statistical Data Analysis\n",
    "\n",
    "1) Alt hypothesis: The average duration of rides from the Loop to O'Hare International Airport **changes** on rainy Saturdays.\n",
    "\n",
    "2) Null hypothesis: The average duration of rides from the Loop to O'Hare International Airport **does not change** on rainy Saturdays."
   ]
  },
  {
   "cell_type": "markdown",
   "metadata": {},
   "source": [
    "### First convert start_ts to date time and create a weekday column"
   ]
  },
  {
   "cell_type": "code",
   "execution_count": 11,
   "metadata": {},
   "outputs": [
    {
     "data": {
      "text/html": [
       "<div>\n",
       "<style scoped>\n",
       "    .dataframe tbody tr th:only-of-type {\n",
       "        vertical-align: middle;\n",
       "    }\n",
       "\n",
       "    .dataframe tbody tr th {\n",
       "        vertical-align: top;\n",
       "    }\n",
       "\n",
       "    .dataframe thead th {\n",
       "        text-align: right;\n",
       "    }\n",
       "</style>\n",
       "<table border=\"1\" class=\"dataframe\">\n",
       "  <thead>\n",
       "    <tr style=\"text-align: right;\">\n",
       "      <th></th>\n",
       "      <th>start_ts</th>\n",
       "      <th>weather_conditions</th>\n",
       "      <th>duration_seconds</th>\n",
       "      <th>weekday</th>\n",
       "    </tr>\n",
       "  </thead>\n",
       "  <tbody>\n",
       "    <tr>\n",
       "      <td>0</td>\n",
       "      <td>2017-11-25 16:00:00</td>\n",
       "      <td>Good</td>\n",
       "      <td>2410.0</td>\n",
       "      <td>Saturday</td>\n",
       "    </tr>\n",
       "    <tr>\n",
       "      <td>1</td>\n",
       "      <td>2017-11-25 14:00:00</td>\n",
       "      <td>Good</td>\n",
       "      <td>1920.0</td>\n",
       "      <td>Saturday</td>\n",
       "    </tr>\n",
       "    <tr>\n",
       "      <td>2</td>\n",
       "      <td>2017-11-25 12:00:00</td>\n",
       "      <td>Good</td>\n",
       "      <td>1543.0</td>\n",
       "      <td>Saturday</td>\n",
       "    </tr>\n",
       "    <tr>\n",
       "      <td>3</td>\n",
       "      <td>2017-11-04 10:00:00</td>\n",
       "      <td>Good</td>\n",
       "      <td>2512.0</td>\n",
       "      <td>Saturday</td>\n",
       "    </tr>\n",
       "    <tr>\n",
       "      <td>4</td>\n",
       "      <td>2017-11-11 07:00:00</td>\n",
       "      <td>Good</td>\n",
       "      <td>1440.0</td>\n",
       "      <td>Saturday</td>\n",
       "    </tr>\n",
       "    <tr>\n",
       "      <td>5</td>\n",
       "      <td>2017-11-11 04:00:00</td>\n",
       "      <td>Good</td>\n",
       "      <td>1320.0</td>\n",
       "      <td>Saturday</td>\n",
       "    </tr>\n",
       "    <tr>\n",
       "      <td>6</td>\n",
       "      <td>2017-11-04 16:00:00</td>\n",
       "      <td>Bad</td>\n",
       "      <td>2969.0</td>\n",
       "      <td>Saturday</td>\n",
       "    </tr>\n",
       "    <tr>\n",
       "      <td>7</td>\n",
       "      <td>2017-11-18 11:00:00</td>\n",
       "      <td>Good</td>\n",
       "      <td>2280.0</td>\n",
       "      <td>Saturday</td>\n",
       "    </tr>\n",
       "    <tr>\n",
       "      <td>8</td>\n",
       "      <td>2017-11-11 14:00:00</td>\n",
       "      <td>Good</td>\n",
       "      <td>2460.0</td>\n",
       "      <td>Saturday</td>\n",
       "    </tr>\n",
       "    <tr>\n",
       "      <td>9</td>\n",
       "      <td>2017-11-11 12:00:00</td>\n",
       "      <td>Good</td>\n",
       "      <td>2040.0</td>\n",
       "      <td>Saturday</td>\n",
       "    </tr>\n",
       "  </tbody>\n",
       "</table>\n",
       "</div>"
      ],
      "text/plain": [
       "             start_ts weather_conditions  duration_seconds   weekday\n",
       "0 2017-11-25 16:00:00               Good            2410.0  Saturday\n",
       "1 2017-11-25 14:00:00               Good            1920.0  Saturday\n",
       "2 2017-11-25 12:00:00               Good            1543.0  Saturday\n",
       "3 2017-11-04 10:00:00               Good            2512.0  Saturday\n",
       "4 2017-11-11 07:00:00               Good            1440.0  Saturday\n",
       "5 2017-11-11 04:00:00               Good            1320.0  Saturday\n",
       "6 2017-11-04 16:00:00                Bad            2969.0  Saturday\n",
       "7 2017-11-18 11:00:00               Good            2280.0  Saturday\n",
       "8 2017-11-11 14:00:00               Good            2460.0  Saturday\n",
       "9 2017-11-11 12:00:00               Good            2040.0  Saturday"
      ]
     },
     "metadata": {},
     "output_type": "display_data"
    },
    {
     "data": {
      "text/plain": [
       "Saturday    1068\n",
       "Name: weekday, dtype: int64"
      ]
     },
     "metadata": {},
     "output_type": "display_data"
    }
   ],
   "source": [
    "from datetime import datetime\n",
    "taxi_weather_data['start_ts'] = [datetime.strptime(x,'%Y-%m-%d %H:%M:%S') for x in\n",
    "                                taxi_weather_data['start_ts']]\n",
    "#^^^ Converts list of dates to datetime, which allows for datetime 'weekday' attribute usage\n",
    "\n",
    "taxi_weather_data['weekday'] = taxi_weather_data['start_ts'].dt.day_name()\n",
    "display(taxi_weather_data.head(10), taxi_weather_data['weekday'].value_counts())"
   ]
  },
  {
   "cell_type": "markdown",
   "metadata": {},
   "source": [
    "**Conclusion 2.1**\n",
    "\n",
    "1) The start_ts column was a list of dates, which does not allow for traditional datetime conversion. The strptime method was used instead \n",
    "\n",
    "2) All days in the dataframe were Saturdays since Saturday was the only value found in the weekday column"
   ]
  },
  {
   "cell_type": "markdown",
   "metadata": {},
   "source": [
    "### Create two populations: \"Good\" Saturdays and \"Bad\" Saturdays"
   ]
  },
  {
   "cell_type": "code",
   "execution_count": 12,
   "metadata": {},
   "outputs": [
    {
     "name": "stdout",
     "output_type": "stream",
     "text": [
      "<class 'pandas.core.frame.DataFrame'>\n",
      "Int64Index: 888 entries, 0 to 1066\n",
      "Data columns (total 1 columns):\n",
      "duration_seconds    888 non-null float64\n",
      "dtypes: float64(1)\n",
      "memory usage: 13.9 KB\n"
     ]
    },
    {
     "data": {
      "text/html": [
       "<div>\n",
       "<style scoped>\n",
       "    .dataframe tbody tr th:only-of-type {\n",
       "        vertical-align: middle;\n",
       "    }\n",
       "\n",
       "    .dataframe tbody tr th {\n",
       "        vertical-align: top;\n",
       "    }\n",
       "\n",
       "    .dataframe thead th {\n",
       "        text-align: right;\n",
       "    }\n",
       "</style>\n",
       "<table border=\"1\" class=\"dataframe\">\n",
       "  <thead>\n",
       "    <tr style=\"text-align: right;\">\n",
       "      <th></th>\n",
       "      <th>duration_seconds</th>\n",
       "    </tr>\n",
       "  </thead>\n",
       "  <tbody>\n",
       "    <tr>\n",
       "      <td>0</td>\n",
       "      <td>2410.0</td>\n",
       "    </tr>\n",
       "    <tr>\n",
       "      <td>1</td>\n",
       "      <td>1920.0</td>\n",
       "    </tr>\n",
       "    <tr>\n",
       "      <td>2</td>\n",
       "      <td>1543.0</td>\n",
       "    </tr>\n",
       "    <tr>\n",
       "      <td>3</td>\n",
       "      <td>2512.0</td>\n",
       "    </tr>\n",
       "    <tr>\n",
       "      <td>4</td>\n",
       "      <td>1440.0</td>\n",
       "    </tr>\n",
       "    <tr>\n",
       "      <td>5</td>\n",
       "      <td>1320.0</td>\n",
       "    </tr>\n",
       "    <tr>\n",
       "      <td>7</td>\n",
       "      <td>2280.0</td>\n",
       "    </tr>\n",
       "    <tr>\n",
       "      <td>8</td>\n",
       "      <td>2460.0</td>\n",
       "    </tr>\n",
       "    <tr>\n",
       "      <td>9</td>\n",
       "      <td>2040.0</td>\n",
       "    </tr>\n",
       "    <tr>\n",
       "      <td>10</td>\n",
       "      <td>1500.0</td>\n",
       "    </tr>\n",
       "  </tbody>\n",
       "</table>\n",
       "</div>"
      ],
      "text/plain": [
       "    duration_seconds\n",
       "0             2410.0\n",
       "1             1920.0\n",
       "2             1543.0\n",
       "3             2512.0\n",
       "4             1440.0\n",
       "5             1320.0\n",
       "7             2280.0\n",
       "8             2460.0\n",
       "9             2040.0\n",
       "10            1500.0"
      ]
     },
     "metadata": {},
     "output_type": "display_data"
    },
    {
     "data": {
      "text/plain": [
       "None"
      ]
     },
     "metadata": {},
     "output_type": "display_data"
    }
   ],
   "source": [
    "#good_sat\n",
    "good_sat = taxi_weather_data.loc[taxi_weather_data['weather_conditions'] == 'Good']\n",
    "good_sat = good_sat.drop(['weekday', 'weather_conditions', 'start_ts'], axis=1)\n",
    "display(good_sat.head(10), good_sat.info())"
   ]
  },
  {
   "cell_type": "code",
   "execution_count": 13,
   "metadata": {},
   "outputs": [
    {
     "name": "stdout",
     "output_type": "stream",
     "text": [
      "<class 'pandas.core.frame.DataFrame'>\n",
      "Int64Index: 180 entries, 6 to 1067\n",
      "Data columns (total 1 columns):\n",
      "duration_seconds    180 non-null float64\n",
      "dtypes: float64(1)\n",
      "memory usage: 2.8 KB\n"
     ]
    },
    {
     "data": {
      "text/html": [
       "<div>\n",
       "<style scoped>\n",
       "    .dataframe tbody tr th:only-of-type {\n",
       "        vertical-align: middle;\n",
       "    }\n",
       "\n",
       "    .dataframe tbody tr th {\n",
       "        vertical-align: top;\n",
       "    }\n",
       "\n",
       "    .dataframe thead th {\n",
       "        text-align: right;\n",
       "    }\n",
       "</style>\n",
       "<table border=\"1\" class=\"dataframe\">\n",
       "  <thead>\n",
       "    <tr style=\"text-align: right;\">\n",
       "      <th></th>\n",
       "      <th>duration_seconds</th>\n",
       "    </tr>\n",
       "  </thead>\n",
       "  <tbody>\n",
       "    <tr>\n",
       "      <td>6</td>\n",
       "      <td>2969.0</td>\n",
       "    </tr>\n",
       "    <tr>\n",
       "      <td>30</td>\n",
       "      <td>1980.0</td>\n",
       "    </tr>\n",
       "    <tr>\n",
       "      <td>34</td>\n",
       "      <td>2460.0</td>\n",
       "    </tr>\n",
       "    <tr>\n",
       "      <td>51</td>\n",
       "      <td>2760.0</td>\n",
       "    </tr>\n",
       "    <tr>\n",
       "      <td>52</td>\n",
       "      <td>2460.0</td>\n",
       "    </tr>\n",
       "    <tr>\n",
       "      <td>54</td>\n",
       "      <td>1440.0</td>\n",
       "    </tr>\n",
       "    <tr>\n",
       "      <td>65</td>\n",
       "      <td>2363.0</td>\n",
       "    </tr>\n",
       "    <tr>\n",
       "      <td>70</td>\n",
       "      <td>3000.0</td>\n",
       "    </tr>\n",
       "    <tr>\n",
       "      <td>78</td>\n",
       "      <td>3120.0</td>\n",
       "    </tr>\n",
       "    <tr>\n",
       "      <td>92</td>\n",
       "      <td>1511.0</td>\n",
       "    </tr>\n",
       "  </tbody>\n",
       "</table>\n",
       "</div>"
      ],
      "text/plain": [
       "    duration_seconds\n",
       "6             2969.0\n",
       "30            1980.0\n",
       "34            2460.0\n",
       "51            2760.0\n",
       "52            2460.0\n",
       "54            1440.0\n",
       "65            2363.0\n",
       "70            3000.0\n",
       "78            3120.0\n",
       "92            1511.0"
      ]
     },
     "metadata": {},
     "output_type": "display_data"
    },
    {
     "data": {
      "text/plain": [
       "None"
      ]
     },
     "metadata": {},
     "output_type": "display_data"
    }
   ],
   "source": [
    "#bad_sat\n",
    "bad_sat = taxi_weather_data.loc[taxi_weather_data['weather_conditions'] == 'Bad']\n",
    "bad_sat = bad_sat.drop(['weekday', 'weather_conditions', 'start_ts'], axis=1)\n",
    "display(bad_sat.head(10), bad_sat.info())"
   ]
  },
  {
   "cell_type": "markdown",
   "metadata": {},
   "source": [
    "**Conclusion 2.2**\n",
    "\n",
    "1) Two populations have been created for statistical t-test: 'good_sat' and 'bad_sat'\n",
    "\n",
    "2) There are 888 'Good' Saturdays and 180 'Bad' Saturdays\n",
    "\n",
    "3) Columns have been dropped that are not relevant for statistical analysis"
   ]
  },
  {
   "cell_type": "markdown",
   "metadata": {},
   "source": [
    "### t-test:\n",
    "\n",
    "1) Alt hypothesis: The average duration of rides from the Loop to O'Hare International Airport changes on rainy Saturdays.\n",
    "\n",
    "2) Null hypothesis: The average duration of rides from the Loop to O'Hare International Airport does not change on rainy Saturdays."
   ]
  },
  {
   "cell_type": "code",
   "execution_count": 14,
   "metadata": {},
   "outputs": [
    {
     "name": "stdout",
     "output_type": "stream",
     "text": [
      "p-value:  [6.51797033e-12]\n",
      "We reject the null hypothesis\n"
     ]
    }
   ],
   "source": [
    "from scipy import stats as st\n",
    "\n",
    "alpha = 0.05 #most understood and accepted alpha value\n",
    "\n",
    "results = st.ttest_ind(good_sat, bad_sat)\n",
    "\n",
    "print('p-value: ', results.pvalue)\n",
    "\n",
    "if results.pvalue < alpha:\n",
    "    print('We reject the null hypothesis')\n",
    "else:\n",
    "    print(\"We can't reject the null hypothesis\") "
   ]
  },
  {
   "cell_type": "markdown",
   "metadata": {},
   "source": [
    "**Conclusion 2.3** \n",
    "\n",
    "1) The t-test for good_sat and bad_sat indicated a p-value of 6.52 e-12, which is much less than the alpha value 0.05\n",
    "\n",
    "2) This means we reject the null hypothesis and accept the alt hypothesis: The average duration of rides from the Loop to O'Hare International Airport **changes** on rainy Saturdays."
   ]
  },
  {
   "cell_type": "markdown",
   "metadata": {},
   "source": [
    "## General Conclusion\n",
    "\n",
    "1) The EDA results indicated the top 10 neighborhoods for average number trips. The neighborhoods with the highest activity should be Zuber's main focus to gain the most exposure and activity.\n",
    "\n",
    "2) Zuber should carefully consider the number of rides and number of taxi company distribution when calculating certain business facets, such as profit margin and services to be hired.\n",
    "\n",
    "3) The SDA results revealed a significant change in ride duration on rainy Saturdays; Zuber should consider weather and seasonal factors as important when discerning annual budgeting."
   ]
  }
 ],
 "metadata": {
  "ExecuteTimeLog": [
   {
    "duration": 614,
    "start_time": "2021-11-09T21:12:58.917Z"
   },
   {
    "duration": 41,
    "start_time": "2021-11-09T21:14:26.512Z"
   },
   {
    "duration": 49,
    "start_time": "2021-11-09T21:17:50.468Z"
   },
   {
    "duration": 18,
    "start_time": "2021-11-09T21:19:39.184Z"
   },
   {
    "duration": 25,
    "start_time": "2021-11-09T21:19:45.663Z"
   },
   {
    "duration": 329,
    "start_time": "2021-11-10T15:49:09.416Z"
   },
   {
    "duration": 1039,
    "start_time": "2021-11-10T15:49:32.786Z"
   },
   {
    "duration": 22,
    "start_time": "2021-11-10T15:49:33.829Z"
   },
   {
    "duration": 12,
    "start_time": "2021-11-10T15:49:33.855Z"
   },
   {
    "duration": 18,
    "start_time": "2021-11-10T15:50:44.987Z"
   },
   {
    "duration": 11,
    "start_time": "2021-11-10T15:50:52.831Z"
   },
   {
    "duration": 12,
    "start_time": "2021-11-10T15:51:07.482Z"
   },
   {
    "duration": 768,
    "start_time": "2021-11-10T15:53:36.559Z"
   },
   {
    "duration": 19,
    "start_time": "2021-11-10T15:53:37.330Z"
   },
   {
    "duration": 11,
    "start_time": "2021-11-10T15:53:37.353Z"
   },
   {
    "duration": 13,
    "start_time": "2021-11-10T15:53:37.367Z"
   },
   {
    "duration": 803,
    "start_time": "2021-11-10T15:54:33.127Z"
   },
   {
    "duration": 31,
    "start_time": "2021-11-10T15:54:33.932Z"
   },
   {
    "duration": 20,
    "start_time": "2021-11-10T15:54:33.965Z"
   },
   {
    "duration": 12,
    "start_time": "2021-11-10T15:54:33.988Z"
   },
   {
    "duration": 13,
    "start_time": "2021-11-10T16:04:50.514Z"
   },
   {
    "duration": 9,
    "start_time": "2021-11-10T16:05:29.189Z"
   },
   {
    "duration": 10,
    "start_time": "2021-11-10T16:05:57.013Z"
   },
   {
    "duration": 7,
    "start_time": "2021-11-10T16:06:08.519Z"
   },
   {
    "duration": 387,
    "start_time": "2021-11-10T16:06:50.968Z"
   },
   {
    "duration": 9,
    "start_time": "2021-11-10T16:06:58.073Z"
   },
   {
    "duration": 8,
    "start_time": "2021-11-10T16:16:08.783Z"
   },
   {
    "duration": 282,
    "start_time": "2021-11-10T16:16:28.779Z"
   },
   {
    "duration": 14,
    "start_time": "2021-11-10T16:16:55.364Z"
   },
   {
    "duration": 12,
    "start_time": "2021-11-10T16:17:13.834Z"
   },
   {
    "duration": 11,
    "start_time": "2021-11-10T16:19:19.102Z"
   },
   {
    "duration": 9,
    "start_time": "2021-11-10T16:24:04.376Z"
   },
   {
    "duration": 7,
    "start_time": "2021-11-10T16:24:12.721Z"
   },
   {
    "duration": 833,
    "start_time": "2021-11-10T16:24:33.730Z"
   },
   {
    "duration": 29,
    "start_time": "2021-11-10T16:24:34.566Z"
   },
   {
    "duration": 15,
    "start_time": "2021-11-10T16:24:34.598Z"
   },
   {
    "duration": 41,
    "start_time": "2021-11-10T16:24:34.615Z"
   },
   {
    "duration": 24,
    "start_time": "2021-11-10T16:24:34.658Z"
   },
   {
    "duration": 37,
    "start_time": "2021-11-10T16:24:34.685Z"
   },
   {
    "duration": 32,
    "start_time": "2021-11-10T16:24:34.724Z"
   },
   {
    "duration": 953,
    "start_time": "2021-11-10T18:30:55.408Z"
   },
   {
    "duration": 781,
    "start_time": "2021-11-10T18:31:11.424Z"
   },
   {
    "duration": 30,
    "start_time": "2021-11-10T18:31:12.208Z"
   },
   {
    "duration": 7,
    "start_time": "2021-11-10T18:31:12.241Z"
   },
   {
    "duration": 9,
    "start_time": "2021-11-10T18:31:12.251Z"
   },
   {
    "duration": 9,
    "start_time": "2021-11-10T18:31:12.263Z"
   },
   {
    "duration": 60,
    "start_time": "2021-11-10T18:31:12.274Z"
   },
   {
    "duration": 11,
    "start_time": "2021-11-10T18:31:12.337Z"
   },
   {
    "duration": 462,
    "start_time": "2021-11-10T18:31:12.351Z"
   },
   {
    "duration": 360,
    "start_time": "2021-11-10T18:34:38.700Z"
   },
   {
    "duration": 385,
    "start_time": "2021-11-10T18:38:19.354Z"
   },
   {
    "duration": 411,
    "start_time": "2021-11-10T18:41:14.121Z"
   },
   {
    "duration": 304,
    "start_time": "2021-11-10T18:41:59.857Z"
   },
   {
    "duration": 307,
    "start_time": "2021-11-10T18:42:43.085Z"
   },
   {
    "duration": 366,
    "start_time": "2021-11-10T18:43:42.342Z"
   },
   {
    "duration": 360,
    "start_time": "2021-11-10T18:51:03.837Z"
   },
   {
    "duration": 646,
    "start_time": "2021-11-10T22:39:14.879Z"
   },
   {
    "duration": 785,
    "start_time": "2021-11-10T22:39:24.483Z"
   },
   {
    "duration": 28,
    "start_time": "2021-11-10T22:39:25.271Z"
   },
   {
    "duration": 8,
    "start_time": "2021-11-10T22:39:25.302Z"
   },
   {
    "duration": 10,
    "start_time": "2021-11-10T22:39:25.313Z"
   },
   {
    "duration": 43,
    "start_time": "2021-11-10T22:39:25.326Z"
   },
   {
    "duration": 10,
    "start_time": "2021-11-10T22:39:25.372Z"
   },
   {
    "duration": 11,
    "start_time": "2021-11-10T22:39:25.385Z"
   },
   {
    "duration": 510,
    "start_time": "2021-11-10T22:39:25.399Z"
   },
   {
    "duration": 362,
    "start_time": "2021-11-10T22:39:25.912Z"
   },
   {
    "duration": 2167,
    "start_time": "2021-11-10T22:39:26.276Z"
   },
   {
    "duration": 2039,
    "start_time": "2021-11-10T22:41:34.767Z"
   },
   {
    "duration": 732,
    "start_time": "2021-11-10T22:41:57.417Z"
   },
   {
    "duration": 29,
    "start_time": "2021-11-10T22:41:58.151Z"
   },
   {
    "duration": 2675,
    "start_time": "2021-11-10T22:41:58.185Z"
   },
   {
    "duration": -289,
    "start_time": "2021-11-10T22:42:01.152Z"
   },
   {
    "duration": -291,
    "start_time": "2021-11-10T22:42:01.155Z"
   },
   {
    "duration": -292,
    "start_time": "2021-11-10T22:42:01.158Z"
   },
   {
    "duration": -292,
    "start_time": "2021-11-10T22:42:01.160Z"
   },
   {
    "duration": -294,
    "start_time": "2021-11-10T22:42:01.163Z"
   },
   {
    "duration": -294,
    "start_time": "2021-11-10T22:42:01.164Z"
   },
   {
    "duration": -295,
    "start_time": "2021-11-10T22:42:01.167Z"
   },
   {
    "duration": 2863,
    "start_time": "2021-11-10T22:43:01.220Z"
   },
   {
    "duration": 778,
    "start_time": "2021-11-10T22:43:18.263Z"
   },
   {
    "duration": 29,
    "start_time": "2021-11-10T22:43:19.044Z"
   },
   {
    "duration": 2511,
    "start_time": "2021-11-10T22:43:19.078Z"
   },
   {
    "duration": -245,
    "start_time": "2021-11-10T22:43:21.837Z"
   },
   {
    "duration": -247,
    "start_time": "2021-11-10T22:43:21.840Z"
   },
   {
    "duration": -255,
    "start_time": "2021-11-10T22:43:21.850Z"
   },
   {
    "duration": -257,
    "start_time": "2021-11-10T22:43:21.853Z"
   },
   {
    "duration": -257,
    "start_time": "2021-11-10T22:43:21.855Z"
   },
   {
    "duration": -261,
    "start_time": "2021-11-10T22:43:21.860Z"
   },
   {
    "duration": -266,
    "start_time": "2021-11-10T22:43:21.866Z"
   },
   {
    "duration": 54,
    "start_time": "2021-11-10T22:43:31.362Z"
   },
   {
    "duration": 14,
    "start_time": "2021-11-10T22:45:14.869Z"
   },
   {
    "duration": 815,
    "start_time": "2021-11-10T22:45:21.152Z"
   },
   {
    "duration": 27,
    "start_time": "2021-11-10T22:45:21.971Z"
   },
   {
    "duration": 55,
    "start_time": "2021-11-10T22:45:22.001Z"
   },
   {
    "duration": 7,
    "start_time": "2021-11-10T22:45:22.067Z"
   },
   {
    "duration": 14,
    "start_time": "2021-11-10T22:45:22.076Z"
   },
   {
    "duration": 8,
    "start_time": "2021-11-10T22:45:22.093Z"
   },
   {
    "duration": 14,
    "start_time": "2021-11-10T22:45:22.103Z"
   },
   {
    "duration": 11,
    "start_time": "2021-11-10T22:45:22.168Z"
   },
   {
    "duration": 479,
    "start_time": "2021-11-10T22:45:22.181Z"
   },
   {
    "duration": 342,
    "start_time": "2021-11-10T22:45:22.667Z"
   },
   {
    "duration": 288,
    "start_time": "2021-11-12T22:04:31.387Z"
   },
   {
    "duration": 660,
    "start_time": "2021-11-12T22:04:39.356Z"
   },
   {
    "duration": 26,
    "start_time": "2021-11-12T22:04:40.018Z"
   },
   {
    "duration": 42,
    "start_time": "2021-11-12T22:04:40.046Z"
   },
   {
    "duration": 5,
    "start_time": "2021-11-12T22:04:40.090Z"
   },
   {
    "duration": 10,
    "start_time": "2021-11-12T22:04:40.096Z"
   },
   {
    "duration": 5,
    "start_time": "2021-11-12T22:04:40.108Z"
   },
   {
    "duration": 29,
    "start_time": "2021-11-12T22:04:40.115Z"
   },
   {
    "duration": 8,
    "start_time": "2021-11-12T22:04:40.146Z"
   },
   {
    "duration": 285,
    "start_time": "2021-11-12T22:04:40.156Z"
   },
   {
    "duration": 200,
    "start_time": "2021-11-12T22:04:40.444Z"
   },
   {
    "duration": 1123,
    "start_time": "2021-11-12T22:04:40.646Z"
   },
   {
    "duration": 91,
    "start_time": "2021-11-12T22:05:47.967Z"
   },
   {
    "duration": 277,
    "start_time": "2021-11-12T22:05:53.652Z"
   },
   {
    "duration": 1092,
    "start_time": "2021-11-12T22:06:41.504Z"
   },
   {
    "duration": 1061,
    "start_time": "2021-11-12T22:09:42.319Z"
   },
   {
    "duration": 1062,
    "start_time": "2021-11-12T22:11:33.031Z"
   },
   {
    "duration": 1150,
    "start_time": "2021-11-12T22:32:39.973Z"
   },
   {
    "duration": 2942,
    "start_time": "2021-11-12T22:35:19.077Z"
   },
   {
    "duration": 662,
    "start_time": "2021-11-12T22:42:01.116Z"
   },
   {
    "duration": 24,
    "start_time": "2021-11-12T22:42:01.780Z"
   },
   {
    "duration": 50,
    "start_time": "2021-11-12T22:42:01.806Z"
   },
   {
    "duration": 5,
    "start_time": "2021-11-12T22:42:01.858Z"
   },
   {
    "duration": 26,
    "start_time": "2021-11-12T22:42:01.865Z"
   },
   {
    "duration": 28,
    "start_time": "2021-11-12T22:42:01.893Z"
   },
   {
    "duration": 31,
    "start_time": "2021-11-12T22:42:01.924Z"
   },
   {
    "duration": 17,
    "start_time": "2021-11-12T22:42:01.959Z"
   },
   {
    "duration": 311,
    "start_time": "2021-11-12T22:42:01.978Z"
   },
   {
    "duration": 210,
    "start_time": "2021-11-12T22:42:02.290Z"
   },
   {
    "duration": 563,
    "start_time": "2021-11-12T22:42:02.502Z"
   },
   {
    "duration": 485,
    "start_time": "2021-11-12T22:42:47.676Z"
   },
   {
    "duration": 508,
    "start_time": "2021-11-12T22:43:07.058Z"
   },
   {
    "duration": 486,
    "start_time": "2021-11-12T22:43:16.993Z"
   },
   {
    "duration": 524,
    "start_time": "2021-11-12T22:43:47.266Z"
   },
   {
    "duration": 24,
    "start_time": "2021-11-12T22:44:00.759Z"
   },
   {
    "duration": 460,
    "start_time": "2021-11-12T22:49:18.547Z"
   },
   {
    "duration": 659,
    "start_time": "2021-11-12T22:49:45.323Z"
   },
   {
    "duration": 27,
    "start_time": "2021-11-12T22:49:45.985Z"
   },
   {
    "duration": 44,
    "start_time": "2021-11-12T22:49:46.014Z"
   },
   {
    "duration": 6,
    "start_time": "2021-11-12T22:49:46.060Z"
   },
   {
    "duration": 12,
    "start_time": "2021-11-12T22:49:46.068Z"
   },
   {
    "duration": 7,
    "start_time": "2021-11-12T22:49:46.082Z"
   },
   {
    "duration": 55,
    "start_time": "2021-11-12T22:49:46.091Z"
   },
   {
    "duration": 9,
    "start_time": "2021-11-12T22:49:46.149Z"
   },
   {
    "duration": 299,
    "start_time": "2021-11-12T22:49:46.160Z"
   },
   {
    "duration": 209,
    "start_time": "2021-11-12T22:49:46.462Z"
   },
   {
    "duration": 27,
    "start_time": "2021-11-12T22:49:46.673Z"
   },
   {
    "duration": 10,
    "start_time": "2021-11-12T23:00:44.508Z"
   },
   {
    "duration": 337,
    "start_time": "2021-11-12T23:04:33.658Z"
   },
   {
    "duration": 581,
    "start_time": "2021-11-12T23:34:43.069Z"
   },
   {
    "duration": 24,
    "start_time": "2021-11-12T23:34:43.651Z"
   },
   {
    "duration": 41,
    "start_time": "2021-11-12T23:34:43.677Z"
   },
   {
    "duration": 5,
    "start_time": "2021-11-12T23:34:43.720Z"
   },
   {
    "duration": 12,
    "start_time": "2021-11-12T23:34:43.726Z"
   },
   {
    "duration": 9,
    "start_time": "2021-11-12T23:34:43.740Z"
   },
   {
    "duration": 9,
    "start_time": "2021-11-12T23:34:43.751Z"
   },
   {
    "duration": 7,
    "start_time": "2021-11-12T23:34:43.763Z"
   },
   {
    "duration": 294,
    "start_time": "2021-11-12T23:34:43.772Z"
   },
   {
    "duration": 204,
    "start_time": "2021-11-12T23:34:44.067Z"
   },
   {
    "duration": 23,
    "start_time": "2021-11-12T23:34:44.272Z"
   },
   {
    "duration": 17,
    "start_time": "2021-11-12T23:34:44.297Z"
   },
   {
    "duration": 361,
    "start_time": "2021-11-12T23:35:20.112Z"
   },
   {
    "duration": 12,
    "start_time": "2021-11-12T23:35:30.306Z"
   },
   {
    "duration": 579,
    "start_time": "2021-11-12T23:36:43.673Z"
   },
   {
    "duration": 23,
    "start_time": "2021-11-12T23:36:44.254Z"
   },
   {
    "duration": 40,
    "start_time": "2021-11-12T23:36:44.279Z"
   },
   {
    "duration": 5,
    "start_time": "2021-11-12T23:36:44.320Z"
   },
   {
    "duration": 12,
    "start_time": "2021-11-12T23:36:44.326Z"
   },
   {
    "duration": 9,
    "start_time": "2021-11-12T23:36:44.339Z"
   },
   {
    "duration": 12,
    "start_time": "2021-11-12T23:36:44.350Z"
   },
   {
    "duration": 7,
    "start_time": "2021-11-12T23:36:44.364Z"
   },
   {
    "duration": 315,
    "start_time": "2021-11-12T23:36:44.374Z"
   },
   {
    "duration": 202,
    "start_time": "2021-11-12T23:36:44.690Z"
   },
   {
    "duration": 24,
    "start_time": "2021-11-12T23:36:44.894Z"
   },
   {
    "duration": 30,
    "start_time": "2021-11-12T23:36:44.920Z"
   },
   {
    "duration": 15,
    "start_time": "2021-11-12T23:36:52.848Z"
   },
   {
    "duration": 12,
    "start_time": "2021-11-12T23:37:11.619Z"
   },
   {
    "duration": 12,
    "start_time": "2021-11-12T23:37:53.155Z"
   },
   {
    "duration": 12,
    "start_time": "2021-11-12T23:38:56.066Z"
   },
   {
    "duration": 324,
    "start_time": "2021-11-12T23:44:18.532Z"
   },
   {
    "duration": 270,
    "start_time": "2021-11-12T23:44:48.017Z"
   },
   {
    "duration": 439,
    "start_time": "2021-11-12T23:44:57.246Z"
   },
   {
    "duration": 635,
    "start_time": "2021-11-12T23:59:33.929Z"
   },
   {
    "duration": 24,
    "start_time": "2021-11-12T23:59:34.566Z"
   },
   {
    "duration": 43,
    "start_time": "2021-11-12T23:59:34.592Z"
   },
   {
    "duration": 5,
    "start_time": "2021-11-12T23:59:34.637Z"
   },
   {
    "duration": 11,
    "start_time": "2021-11-12T23:59:34.644Z"
   },
   {
    "duration": 9,
    "start_time": "2021-11-12T23:59:34.656Z"
   },
   {
    "duration": 9,
    "start_time": "2021-11-12T23:59:34.667Z"
   },
   {
    "duration": 7,
    "start_time": "2021-11-12T23:59:34.679Z"
   },
   {
    "duration": 307,
    "start_time": "2021-11-12T23:59:34.688Z"
   },
   {
    "duration": 204,
    "start_time": "2021-11-12T23:59:34.997Z"
   },
   {
    "duration": 24,
    "start_time": "2021-11-12T23:59:35.203Z"
   },
   {
    "duration": 27,
    "start_time": "2021-11-12T23:59:35.229Z"
   },
   {
    "duration": 14,
    "start_time": "2021-11-12T23:59:35.258Z"
   },
   {
    "duration": 411,
    "start_time": "2021-11-12T23:59:35.274Z"
   }
  ],
  "kernelspec": {
   "display_name": "Python 3 (ipykernel)",
   "language": "python",
   "name": "python3"
  },
  "language_info": {
   "codemirror_mode": {
    "name": "ipython",
    "version": 3
   },
   "file_extension": ".py",
   "mimetype": "text/x-python",
   "name": "python",
   "nbconvert_exporter": "python",
   "pygments_lexer": "ipython3",
   "version": "3.9.5"
  },
  "toc": {
   "base_numbering": 1,
   "nav_menu": {},
   "number_sections": true,
   "sideBar": true,
   "skip_h1_title": true,
   "title_cell": "Table of Contents",
   "title_sidebar": "Contents",
   "toc_cell": false,
   "toc_position": {},
   "toc_section_display": true,
   "toc_window_display": false
  }
 },
 "nbformat": 4,
 "nbformat_minor": 2
}
